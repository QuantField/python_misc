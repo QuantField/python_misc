{
 "cells": [
  {
   "cell_type": "markdown",
   "metadata": {},
   "source": [
    "# Python good coding tips\n"
   ]
  },
  {
   "cell_type": "code",
   "execution_count": 6,
   "metadata": {
    "collapsed": true
   },
   "outputs": [],
   "source": [
    "color = ['red','blue','green','yellow','black']"
   ]
  },
  {
   "cell_type": "markdown",
   "metadata": {},
   "source": [
    "In Python 2.7  range(n) was inconvenient as it created a list. It has been replaced by xrange(n) which is an iterator, this was very efficient. With Python 3 xrange is simply range."
   ]
  },
  {
   "cell_type": "code",
   "execution_count": 7,
   "metadata": {},
   "outputs": [
    {
     "name": "stdout",
     "output_type": "stream",
     "text": [
      "red\n",
      "blue\n",
      "green\n",
      "yellow\n",
      "black\n"
     ]
    }
   ],
   "source": [
    "for r in color:\n",
    "    print(r)"
   ]
  },
  {
   "cell_type": "markdown",
   "metadata": {},
   "source": [
    "## Looping backwards, traditional vs. new"
   ]
  },
  {
   "cell_type": "code",
   "execution_count": 8,
   "metadata": {
    "scrolled": true
   },
   "outputs": [
    {
     "name": "stdout",
     "output_type": "stream",
     "text": [
      "black\n",
      "yellow\n",
      "green\n",
      "blue\n",
      "red\n"
     ]
    }
   ],
   "source": [
    "for i in range(len(color)-1,-1,-1):\n",
    "    print(color[i])"
   ]
  },
  {
   "cell_type": "code",
   "execution_count": 9,
   "metadata": {
    "scrolled": true
   },
   "outputs": [
    {
     "name": "stdout",
     "output_type": "stream",
     "text": [
      "black\n",
      "yellow\n",
      "green\n",
      "blue\n",
      "red\n"
     ]
    }
   ],
   "source": [
    "for r in reversed(color):\n",
    "    print(r)"
   ]
  },
  {
   "cell_type": "markdown",
   "metadata": {},
   "source": [
    "## Looping with indices"
   ]
  },
  {
   "cell_type": "code",
   "execution_count": 10,
   "metadata": {},
   "outputs": [
    {
     "name": "stdout",
     "output_type": "stream",
     "text": [
      "0 ---> red\n",
      "1 ---> blue\n",
      "2 ---> green\n",
      "3 ---> yellow\n",
      "4 ---> black\n"
     ]
    }
   ],
   "source": [
    "for i,r in enumerate(color):\n",
    "    print(i,\"--->\",r)"
   ]
  },
  {
   "cell_type": "markdown",
   "metadata": {},
   "source": [
    "## Looping ove two collections"
   ]
  },
  {
   "cell_type": "code",
   "execution_count": 11,
   "metadata": {},
   "outputs": [
    {
     "name": "stdout",
     "output_type": "stream",
     "text": [
      "red medina\n",
      "blue cyprus\n",
      "green damas\n"
     ]
    }
   ],
   "source": [
    "color = ['red','blue','green','yellow','black']\n",
    "town  = ['medina', 'cyprus','damas']\n",
    "for h,k in zip(color,town):\n",
    "    print(h,k)"
   ]
  },
  {
   "cell_type": "code",
   "execution_count": 12,
   "metadata": {},
   "outputs": [
    {
     "data": {
      "text/plain": [
       "[0, 2, 4, 6, 8, 10, 12, 14, 16, 18]"
      ]
     },
     "execution_count": 12,
     "metadata": {},
     "output_type": "execute_result"
    }
   ],
   "source": [
    "a = list(range(10))\n",
    "b = list(range(10))\n",
    "[i+j for i,j in zip(a,b)]"
   ]
  },
  {
   "cell_type": "markdown",
   "metadata": {},
   "source": [
    "## Dictionaries"
   ]
  },
  {
   "cell_type": "code",
   "execution_count": 24,
   "metadata": {
    "collapsed": true
   },
   "outputs": [],
   "source": [
    "Dict1 = {'electron':'fermion','proton':'fermion','photon':'boson'}"
   ]
  },
  {
   "cell_type": "code",
   "execution_count": 25,
   "metadata": {},
   "outputs": [
    {
     "name": "stdout",
     "output_type": "stream",
     "text": [
      "fermion\n",
      "fermion\n",
      "boson\n"
     ]
    }
   ],
   "source": [
    "for k in Dict1.keys():\n",
    "    print(Dict1[k])"
   ]
  },
  {
   "cell_type": "code",
   "execution_count": 26,
   "metadata": {},
   "outputs": [
    {
     "name": "stdout",
     "output_type": "stream",
     "text": [
      "electron fermion\n",
      "proton fermion\n",
      "photon boson\n"
     ]
    }
   ],
   "source": [
    "# better way\n",
    "for k,v in Dict1.items():\n",
    "    print(k,v)"
   ]
  },
  {
   "cell_type": "markdown",
   "metadata": {},
   "source": [
    "### Create dictionary from two collections"
   ]
  },
  {
   "cell_type": "code",
   "execution_count": 29,
   "metadata": {},
   "outputs": [
    {
     "name": "stdout",
     "output_type": "stream",
     "text": [
      "{'medina': 'red', 'cyprus': 'blue', 'damas': 'green'}\n"
     ]
    }
   ],
   "source": [
    "color = ['red','blue','green']\n",
    "town  = ['medina', 'cyprus','damas']\n",
    "Dic   = dict(zip(town,color))\n",
    "print(Dic)"
   ]
  },
  {
   "cell_type": "markdown",
   "metadata": {},
   "source": [
    "# Class example"
   ]
  },
  {
   "cell_type": "code",
   "execution_count": 56,
   "metadata": {
    "scrolled": true
   },
   "outputs": [
    {
     "name": "stdout",
     "output_type": "stream",
     "text": [
      "(3, 4, 0, 1) (-1, 3, 2, 5) ([2, 7, 2, 6],)\n"
     ]
    }
   ],
   "source": [
    "class poly:\n",
    "    def __init__(self, *coefs):\n",
    "        self.coefs = coefs\n",
    "    def __add__(self,other):\n",
    "        if len(self.coefs)==len(other.coefs):\n",
    "            return poly([a+b for a,b in zip(self.coefs, other.coefs)])\n",
    "        else:\n",
    "            print(\"Polynomials must have same degree\")\n",
    "            raise Exception(classmethod)\n",
    "    def __str__(self):\n",
    "        return str(self.coefs)\n",
    "    \n",
    "p = poly(3,4,0,1)\n",
    "q = poly(-1,3,2,5)\n",
    "t = poly(-2,3,0)\n",
    "print(p,q, p+q)\n",
    "    "
   ]
  },
  {
   "cell_type": "markdown",
   "metadata": {},
   "source": [
    "# Generators\n",
    "Are simple way to create iterators"
   ]
  },
  {
   "cell_type": "code",
   "execution_count": 62,
   "metadata": {},
   "outputs": [
    {
     "name": "stdout",
     "output_type": "stream",
     "text": [
      "H\n",
      "He\n",
      "Na\n",
      "Mg\n"
     ]
    }
   ],
   "source": [
    "def periodicTable_next():\n",
    "    yield 'H'\n",
    "    yield 'He'\n",
    "    yield 'Na'\n",
    "    yield 'Mg'\n",
    "    \n",
    "iterator = periodicTable_next() \n",
    "print(next(iterator))  # next applies to iterator\n",
    "print(next(iterator))\n",
    "print(next(iterator))\n",
    "print(next(iterator))\n",
    "# if we run one more time we will have an error"
   ]
  },
  {
   "cell_type": "code",
   "execution_count": 63,
   "metadata": {
    "scrolled": true
   },
   "outputs": [
    {
     "name": "stdout",
     "output_type": "stream",
     "text": [
      "H\n",
      "He\n",
      "Na\n",
      "Mg\n"
     ]
    }
   ],
   "source": [
    "for r in periodicTable_next():\n",
    "    print(r)"
   ]
  },
  {
   "cell_type": "code",
   "execution_count": 69,
   "metadata": {
    "scrolled": true
   },
   "outputs": [
    {
     "name": "stdout",
     "output_type": "stream",
     "text": [
      "0\n",
      "1\n",
      "1\n",
      "2\n",
      "3\n",
      "5\n",
      "8\n",
      "13\n",
      "21\n",
      "34\n"
     ]
    }
   ],
   "source": [
    "# generate Fibonacci sequence 0,1,1,2,3,5,...\n",
    "\n",
    "def fibonacci():    \n",
    "    a, b = 0,1\n",
    "    while True:\n",
    "        yield a\n",
    "        a, b =  b, a+b\n",
    "        \n",
    "for f in fibonacci()  :\n",
    "    if f>50 : break  \n",
    "    print(f)\n"
   ]
  },
  {
   "cell_type": "code",
   "execution_count": 68,
   "metadata": {
    "scrolled": true
   },
   "outputs": [
    {
     "name": "stdout",
     "output_type": "stream",
     "text": [
      "0\n",
      "1\n",
      "1\n",
      "2\n",
      "3\n",
      "5\n",
      "8\n",
      "13\n",
      "21\n",
      "34\n"
     ]
    }
   ],
   "source": [
    "def fibonacci(n):    \n",
    "    a, b = 0,1\n",
    "    while a<n:\n",
    "        yield a\n",
    "        a, b =  b, a+b\n",
    "        \n",
    "for f in fibonacci(50):\n",
    "    print(f)\n",
    "        "
   ]
  },
  {
   "cell_type": "markdown",
   "metadata": {},
   "source": [
    "## Iterators \n",
    "objects on which iter is applicable. the object becomes iterable"
   ]
  },
  {
   "cell_type": "code",
   "execution_count": 75,
   "metadata": {},
   "outputs": [
    {
     "name": "stdout",
     "output_type": "stream",
     "text": [
      "H\n",
      "He\n"
     ]
    }
   ],
   "source": [
    "class atoms:\n",
    "    def __init__(self):\n",
    "        self.elements = ['H','He','Na', 'Mg','Al', 'Si','P','Se']\n",
    "        self.ind = -1\n",
    "        \n",
    "    def __iter__(self):  # must be defined\n",
    "        return self\n",
    "    \n",
    "    def __next__(self): # also must be defined\n",
    "        self.ind += 1\n",
    "        if self.ind == len(self.elements):\n",
    "            raise StopAsyncIteration # standard procedure, I thought it would loop\n",
    "        return self.elements[self.ind]    \n",
    "    \n",
    "X = atoms()\n",
    "itr = iter(X) # X is an iterator therefore I can apply iter\n",
    "print(next(itr))\n",
    "print(next(itr))\n",
    "\n",
    "# this will create an error as the end of the list is reached\n",
    "#print()            \n",
    "#Y = atoms()    \n",
    "#for r in Y:\n",
    "#    print(r)                "
   ]
  },
  {
   "cell_type": "markdown",
   "metadata": {},
   "source": [
    "## Decorators\n",
    "Help make the code look clean and uncluttered. Example here is a timing function"
   ]
  },
  {
   "cell_type": "code",
   "execution_count": 82,
   "metadata": {},
   "outputs": [
    {
     "name": "stdout",
     "output_type": "stream",
     "text": [
      "invert N = 1000 took  0.2924 sec\n",
      "invert N = 2000 took  1.8598 sec\n",
      "invert N = 3000 took  5.4864 sec\n"
     ]
    }
   ],
   "source": [
    "import time\n",
    "\n",
    "def time_it(func):\n",
    "    def wrapper(*args, **kwargs):\n",
    "        start = time.time()\n",
    "        result= func(*args, **kwargs)\n",
    "        end   = time.time()\n",
    "        print(func.__name__+ \" N = \"+ str(args[0])+ \" took  \"+str(round(end-start,4)) + \" sec\")\n",
    "        return result\n",
    "    return wrapper\n",
    "\n",
    "import numpy as np\n",
    "\n",
    "@time_it\n",
    "def invert(N):\n",
    "    a = np.random.random([N,N])\n",
    "    b = np.linalg.inv(a)\n",
    "    \n",
    "invert(1000)\n",
    "invert(2000)\n",
    "invert(3000)"
   ]
  }
 ],
 "metadata": {
  "kernelspec": {
   "display_name": "Python 3",
   "language": "python",
   "name": "python3"
  },
  "language_info": {
   "codemirror_mode": {
    "name": "ipython",
    "version": 3
   },
   "file_extension": ".py",
   "mimetype": "text/x-python",
   "name": "python",
   "nbconvert_exporter": "python",
   "pygments_lexer": "ipython3",
   "version": "3.6.1"
  }
 },
 "nbformat": 4,
 "nbformat_minor": 2
}
