{
 "cells": [
  {
   "cell_type": "code",
   "execution_count": 3,
   "metadata": {},
   "outputs": [
    {
     "name": "stderr",
     "output_type": "stream",
     "text": [
      "C:\\ProgramData\\Anaconda3\\lib\\site-packages\\scipy\\integrate\\odepack.py:218: ODEintWarning: Excess work done on this call (perhaps wrong Dfun type). Run with full_output = 1 to get quantitative information.\n",
      "  warnings.warn(warning_msg, ODEintWarning)\n",
      "C:\\ProgramData\\Anaconda3\\lib\\site-packages\\ipykernel_launcher.py:75: RuntimeWarning: divide by zero encountered in double_scalars\n"
     ]
    },
    {
     "name": "stdout",
     "output_type": "stream",
     "text": [
      "-0.12499999529382533\n"
     ]
    },
    {
     "data": {
      "image/png": "[encoded data removed]",
      "text/plain": [
       "<matplotlib.figure.Figure at 0x16c90f24eb8>"
      ]
     },
     "metadata": {},
     "output_type": "display_data"
    }
   ],
   "source": [
    "\n",
    "import matplotlib.pyplot as plt \n",
    "\n",
    "\"\"\"\n",
    "   Z = 1, hydrogen atom\n",
    "   -1/2 U'' + (-Z/r + l(l+1)/2*r^2)U = E*U, where U(r) = r*Psi(r)\n",
    "\n",
    "\"\"\"\n",
    "\n",
    "\n",
    "\"\"\" Coulomb Potential  \"\"\"\n",
    "def V(r):\n",
    "    if r==0:\n",
    "        return 1.0\n",
    "    else :\n",
    "        return -Z/r\n",
    "\n",
    "\"\"\" Centripetal Potential\"\"\"\n",
    "def Vcent(r):\n",
    "    if r==0:\n",
    "        return 1.0\n",
    "    else :\n",
    "        return l*(l+1)/(2.0*r**2)\n",
    "\n",
    "Z = 1.0\n",
    "l = 0.0\n",
    "\n",
    "n    = 800\n",
    "rmax = 40\n",
    "\n",
    "r = np.linspace(0,rmax,n)\n",
    "\n",
    "r = r[::-1] # we start from rmax coming down to zero\n",
    "\n",
    "\"\"\"\n",
    "U = r*Psi\n",
    "\n",
    "U'   = Q\n",
    "Q'   = -2*(E - V(r)-Vcent)*U\n",
    "\n",
    "U(rmax)   = 0\n",
    "U(rmax-h) = 1e-4  Q' = r*Psi' + Psi --> Q' = U(rmax-h)/h\n",
    "\n",
    "\"\"\"\n",
    "\n",
    "h = np.abs(r[1]-r[0])\n",
    "Uinf = 0.0\n",
    "Qinf = 1e-6/h\n",
    "\n",
    "\n",
    "iniValue = [Uinf,Qinf]\n",
    "\n",
    "def bound(inVal,r,E):     \n",
    "    U,Q = inVal\n",
    "    return [Q, -2*(E - V(r)-Vcent(r))*U ]\n",
    "\n",
    "\n",
    "def shoot(E):\n",
    "  sol = odeint(bound,iniValue, r, args=(E,))\n",
    "  t   = sol[:,0]\n",
    "  return  t[-1]/max(np.abs(t))\n",
    " \n",
    "\n",
    "#En = brentq(shoot,-1,-0.4)\n",
    "En = brentq(shoot,-0.2,-0.1)\n",
    "print(En)\n",
    "\n",
    "\n",
    "\n",
    "sol = odeint(bound, iniValue, r, args=(En,))\n",
    "\n",
    "Ur = sol[:,0]\n",
    "\n",
    "NormFact  = simps(Ur**2,dx=h)\n",
    "\n",
    "Ur = Ur/np.sqrt(NormFact)\n",
    "\n",
    "psi = [Ur[i]/r[i] for i in range(len(r))]\n",
    "\n",
    "#psi[0]=0\n",
    "plt.plot(r,psi)\n",
    "plt.plot(r,Ur)\n",
    "plt.grid()\n",
    "plt.show()\n",
    "\n",
    "         "
   ]
  }
 ],
 "metadata": {
  "kernelspec": {
   "display_name": "Python 3",
   "language": "python",
   "name": "python3"
  },
  "language_info": {
   "codemirror_mode": {
    "name": "ipython",
    "version": 3
   },
   "file_extension": ".py",
   "mimetype": "text/x-python",
   "name": "python",
   "nbconvert_exporter": "python",
   "pygments_lexer": "ipython3",
   "version": "3.6.10"
  }
 },
 "nbformat": 4,
 "nbformat_minor": 2
}
