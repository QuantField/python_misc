{
 "cells": [
  {
   "cell_type": "markdown",
   "metadata": {},
   "source": [
    "# Zeros of a function\n",
    "We explore two methods, the secant and then Brent method"
   ]
  },
  {
   "cell_type": "code",
   "execution_count": 19,
   "metadata": {
    "scrolled": false
   },
   "outputs": [
    {
     "data": {
      "text/plain": [
       "brent (generic function with 2 methods)"
      ]
     },
     "execution_count": 19,
     "metadata": {},
     "output_type": "execute_result"
    }
   ],
   "source": [
    "function secant(f::Function, a::Float64, b::Float64, tol::Float64 = 1E-6)\n",
    "   epsilon, MaxIter = tol, 50\n",
    "   fa,  fb   = f(a),f(b)\n",
    "   iter = 2\n",
    "   x1 = a\n",
    "   x2 = b\n",
    "   if fa*fb>0\n",
    "     println(\"No solution\")\n",
    "   else\n",
    "        while (abs((x1-x2)/x2)>epsilon)\n",
    "            if (x2<a || x2>b || iter==2)\n",
    "              x1,f1 = a,fa\n",
    "              xm = (a+b)/2.\n",
    "               iter+=1\n",
    "               fxm = f(xm)\n",
    "               if fa*fxm<0\n",
    "                   b,fb = xm,fxm\n",
    "               else\n",
    "                   a,fa = xm,fxm\n",
    "               end\n",
    "              x2,f2 = xm, fxm              \n",
    "            end\n",
    "            iter+=1\n",
    "            xv, fv = x2, f2\n",
    "            x2 = x2 - (x2-x1)*f2/(f2-f1)\n",
    "            f2 = f(x2)\n",
    "            x1, f1 = xv, fv\n",
    "            @printf(\"x = %4.8f    f(x) = %4.8f\\n\", x2, f2)\n",
    "        end\n",
    "        return  x2, iter\n",
    "   end\n",
    "end\n",
    "\n",
    "function brent(f::Function, a::Float64, b::Float64, tol::Float64=1E-6)\n",
    "   epsilon, MaxIter = tol, 50\n",
    "   fa,  fb   = f(a),f(b)\n",
    "   iter = 2\n",
    "   x3 = 1.\n",
    "   x2 = 9999999.\n",
    "   if (fa*fb>0)\n",
    "       print(\"No solution\")\n",
    "   else\n",
    "       while abs((x2-x3)/x2)>epsilon\n",
    "           if (x3<a || x3>b || iter==2)\n",
    "               x1,f1,x2,f2 = a,fa,b,fb\n",
    "               xm = (a+b)/2.\n",
    "               iter+=1\n",
    "               fxm = f(xm)\n",
    "               if (fa*fxm<0)\n",
    "                   b,fb = xm,fxm\n",
    "               else\n",
    "                   a,fa = xm,fxm\n",
    "               end\n",
    "               x3 = (a+b)/2.\n",
    "               iter+=1\n",
    "               f3 = f(x3)\n",
    "           end\n",
    "           iter+=1\n",
    "           xv, fv = x3, f3\n",
    "           x3 = f1*f2*x3/((f3-f2)*(f3-f1)) +\n",
    "                f2*f3*x1/((f1-f2)*(f1-f3)) +\n",
    "                f3*f1*x2/((f2-f1)*(f2-f3))\n",
    "           f3 = f(x3)\n",
    "           x1, f1 = x2, f2\n",
    "           x2, f2 = xv, fv\n",
    "           @printf(\"x = %4.8f    f(x) = %4.8f\\n\", x3, f3)\n",
    "       end\n",
    "  end\n",
    "  return x3, iter\n",
    "end"
   ]
  },
  {
   "cell_type": "code",
   "execution_count": 20,
   "metadata": {},
   "outputs": [
    {
     "data": {
      "text/plain": [
       "func (generic function with 1 method)"
      ]
     },
     "execution_count": 20,
     "metadata": {},
     "output_type": "execute_result"
    }
   ],
   "source": [
    "function func(x::Float64)\n",
    "    return x^5-2\n",
    "end"
   ]
  },
  {
   "cell_type": "code",
   "execution_count": 23,
   "metadata": {},
   "outputs": [
    {
     "name": "stdout",
     "output_type": "stream",
     "text": [
      "Secant mehtod\n",
      "x = 3.36363636    f(x) = 428.57141527\n",
      "x = 0.98884578    f(x) = -1.05454073\n",
      "x = 1.11959541    f(x) = -0.24083914\n",
      "x = 1.15829465    f(x) = 0.08494811\n",
      "x = 1.14820393    f(x) = -0.00430050\n",
      "x = 1.14869016    f(x) = -0.00007135\n",
      "x = 1.14869836    f(x) = 0.00000006\n",
      "x = 1.14869835    f(x) = -0.00000000\n",
      "  0.011624 seconds (1.85 k allocations: 83.531 KiB)\n",
      "x = 1.14869835   12 function evaluations\n",
      "\n",
      "Brent mehtod\n",
      "x = 0.71656243    f(x) = -1.81108338\n",
      "x = 1.06363037    f(x) = -0.63870062\n",
      "x = 1.17764060    f(x) = 0.26497723\n",
      "x = 1.15805859    f(x) = 0.08282442\n",
      "x = 1.14858714    f(x) = -0.00096797\n",
      "x = 1.14869822    f(x) = -0.00000113\n",
      "x = 1.14869835    f(x) = 0.00000000\n",
      "  0.048181 seconds (743 allocations: 23.109 KiB)\n",
      "x = 1.14869835   11 function evaluations\n"
     ]
    }
   ],
   "source": [
    "\n",
    "print(\"Secant mehtod\\n\")\n",
    "@time x,iter = secant(func,-1.0,2.0)\n",
    "@printf(\"x = %4.8f   %d function evaluations\\n\\n\", x, iter)\n",
    "print(\"Brent mehtod\\n\")\n",
    "@time x,iter = brent(func,-1.0,2.0)\n",
    "@printf(\"x = %4.8f   %d function evaluations\\n\", x, iter)"
   ]
  },
  {
   "cell_type": "code",
   "execution_count": 24,
   "metadata": {},
   "outputs": [
    {
     "name": "stdout",
     "output_type": "stream",
     "text": [
      "Secant mehtod\n",
      "x = 3.36363636    f(x) = 428.57141527\n",
      "x = 0.98884578    f(x) = -1.05454073\n",
      "x = 1.11959541    f(x) = -0.24083914\n",
      "x = 1.15829465    f(x) = 0.08494811\n",
      "x = 1.14820393    f(x) = -0.00430050\n",
      "x = 1.14869016    f(x) = -0.00007135\n",
      "x = 1.14869836    f(x) = 0.00000006\n",
      "x = 1.14869835    f(x) = -0.00000000\n",
      "  0.008761 seconds (874 allocations: 27.078 KiB)\n",
      "x = 1.14869835   12 function evaluations\n",
      "\n",
      "Brent mehtod\n",
      "x = 0.71656243    f(x) = -1.81108338\n",
      "x = 1.06363037    f(x) = -0.63870062\n",
      "x = 1.17764060    f(x) = 0.26497723\n",
      "x = 1.15805859    f(x) = 0.08282442\n",
      "x = 1.14858714    f(x) = -0.00096797\n",
      "x = 1.14869822    f(x) = -0.00000113\n",
      "x = 1.14869835    f(x) = 0.00000000\n",
      "x = 1.14869835    f(x) = 0.00000000\n",
      "  0.039712 seconds (2.24 k allocations: 91.344 KiB)\n",
      "x = 1.14869835   12 function evaluations\n"
     ]
    }
   ],
   "source": [
    "print(\"Secant mehtod\\n\")\n",
    "@time x,iter = secant(func,-1.0,2.0, 1E-8)\n",
    "@printf(\"x = %4.8f   %d function evaluations\\n\\n\", x, iter)\n",
    "print(\"Brent mehtod\\n\")\n",
    "@time x,iter = brent(func,-1.0,2.0,1E-8)\n",
    "@printf(\"x = %4.8f   %d function evaluations\\n\", x, iter)"
   ]
  }
 ],
 "metadata": {
  "kernelspec": {
   "display_name": "Julia 0.6.0",
   "language": "julia",
   "name": "julia-0.6"
  },
  "language_info": {
   "file_extension": ".jl",
   "mimetype": "application/julia",
   "name": "julia",
   "version": "0.6.0"
  }
 },
 "nbformat": 4,
 "nbformat_minor": 2
}
