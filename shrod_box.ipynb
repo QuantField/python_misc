{
 "cells": [
  {
   "cell_type": "code",
   "execution_count": 1,
   "metadata": {
    "collapsed": true
   },
   "outputs": [],
   "source": [
    "import numpy as np\n",
    "import scipy.integrate as integrate\n",
    "import math\n",
    "import matplotlib.pyplot as plt\n",
    "\n",
    "N  = 200\n",
    "L  = 2.0 \n",
    "dx = L/N\n",
    "\n",
    "c = 2.0*(dx**2) # factor comes from Shrodinger equation \n",
    "\n",
    "N_1 = N-1\n",
    "\n",
    "#  we will populate   elements corresponding to Psi_1 .... Psi_(N-1)\n",
    "#  given that Psi_0 = Psi_N = 0.0\n",
    "# i.e  i in [0,..N-2] as arrays start from 0 \n",
    "\n",
    "A = np.zeros([N_1,N_1])\n",
    "\n",
    "# forming the tridiagonal matrix\n",
    "#  Psi_i  means Psi(x_i)\n",
    "#\n",
    "#  -Psi_0 + 2*Psi_1 - Psi_2            = E Psi_1\n",
    "#         ....\n",
    "#     0   - Psi_(N-2)+ 2*Psi_(N-1) -Psi_(N) = E Psi_(N-1)\n",
    "# by taking Psi_0 and Psi_(N) out of the system (because of boundary condition)\n",
    "\n",
    "for i in range(N_1):\n",
    "    A[i,i]=2.0\n",
    "    if (i<N_1-1):\n",
    "        A[i,i+1] = A[i+1,i] =-1.0\n",
    "        \n",
    "eigenValues, eigenVectors = np.linalg.eig(A)\n",
    "\n",
    "idx = eigenValues.argsort()\n",
    "\n",
    "# Eigens states are column vectors of eigenVectors\n",
    "EigenEnergy = eigenValues[idx]/c # c from the calculation\n",
    "Psi         = eigenVectors[:,idx]\n",
    "\n",
    "# adding the boundary conditions psi(0)=psi(N)=0\n",
    "ziltch = np.zeros([1,N_1])\n",
    "Psi = np.concatenate((ziltch,Psi), axis=0)\n",
    "Psi = np.concatenate((Psi,ziltch), axis=0)\n"
   ]
  },
  {
   "cell_type": "code",
   "execution_count": 8,
   "metadata": {},
   "outputs": [
    {
     "data": {
      "text/plain": [
       "1.0"
      ]
     },
     "execution_count": 8,
     "metadata": {},
     "output_type": "execute_result"
    }
   ],
   "source": [
    "f = Psi[:,0]\n",
    "g = f**2\n",
    "S = integrate.simps(g,dx = dx)\n",
    "Psi[:,0] = Psi[:,0]/math.sqrt(S)\n",
    "g = Psi[:,0]**2\n",
    "S = integrate.simps(g,dx = dx)\n",
    "S"
   ]
  },
  {
   "cell_type": "code",
   "execution_count": 4,
   "metadata": {},
   "outputs": [
    {
     "data": {
      "image/png": "[encoded data removed]",
      "text/plain": [
       "<matplotlib.figure.Figure at 0x136eb5ab4e0>"
      ]
     },
     "metadata": {},
     "output_type": "display_data"
    }
   ],
   "source": [
    "plt.plot(f)\n",
    "plt.show()"
   ]
  },
  {
   "cell_type": "code",
   "execution_count": null,
   "metadata": {
    "collapsed": true
   },
   "outputs": [],
   "source": []
  }
 ],
 "metadata": {
  "kernelspec": {
   "display_name": "Python 3",
   "language": "python",
   "name": "python3"
  },
  "language_info": {
   "codemirror_mode": {
    "name": "ipython",
    "version": 3
   },
   "file_extension": ".py",
   "mimetype": "text/x-python",
   "name": "python",
   "nbconvert_exporter": "python",
   "pygments_lexer": "ipython3",
   "version": "3.6.1"
  }
 },
 "nbformat": 4,
 "nbformat_minor": 2
}
