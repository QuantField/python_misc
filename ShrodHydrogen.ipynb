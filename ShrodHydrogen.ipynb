{
 "cells": [
  {
   "cell_type": "markdown",
   "metadata": {},
   "source": [
    "## Abstract\n",
    "Python is very practical in that it offers simple syntax and very intuitive ans easy to use programming concepts. We will show how to solve Shroedinger equation for the Hydrogen Atom."
   ]
  },
  {
   "cell_type": "markdown",
   "metadata": {},
   "source": [
    "# Hydrogen Atom\n",
    "The method used here is the shooting method with the following boundary condition.. $\\psi(r_{max})=0$. $r_{max}$ assumed to represent infinity. The solution is built starting from it and coming down all the way to $0$. The eigen energy is adjustes so as to nulify $\\psi$ at this point, i.e. $\\psi(0)=0$\n",
    "\n",
    "\\begin{equation}\n",
    "\\left(-\\frac{\\hbar^{2}}{2m}\\frac{d^2}{dr^2} -\\frac{kZe^2}{r} + \\frac{l(l+1)\\hbar^2}{2mr^2}  \\right)U(r)=\\mathcal{E}.U(r)\n",
    "\\end{equation}\n",
    "For the Hydrogen atome Z =1, and $U(r)=r.\\psi(r)$.  Transforming the above equation into\n",
    "\\begin{equation}\n",
    "\\left(-\\frac{1}{2}\\frac{d^2}{dr^2}-\\frac{Z}{r} + \\frac{l(l+1)}{2r^2}  \\right)U(r)= \\mathcal{E_{Hrt}}.U(r)    \n",
    "\\end{equation}\n",
    "Where energies are expressed in Hartree 27.2113 eV and distances in Bohr radius unit $a_0 =0.529$ Angstrom\n",
    "\n",
    "\\begin{equation}\n",
    "\\text{Hartree} = \\frac{\\hbar^2}{ma_0^2} = 27.2113 eV\n",
    "\\end{equation}\n",
    "\n",
    "If we want to formulate in terms of Rayleigh energy unit = 0.5*Hartree = 13.605 eV\n",
    "\n",
    "\\begin{equation}\n",
    "\\left(-\\frac{d^2}{dr^2}-\\frac{2Z}{r} + \\frac{l(l+1)}{r^2}  \\right)U(r)= \\mathcal{E_{Ray}}.U(r)    \n",
    "\\end{equation}\n"
   ]
  },
  {
   "cell_type": "code",
   "execution_count": 6,
   "metadata": {},
   "outputs": [
    {
     "name": "stdout",
     "output_type": "stream",
     "text": [
      " 1 hartree =  4.359744649031277e-18 J\n",
      " 1 hartree =  27.211386013449417 eV\n",
      " 1 hartree =  13.605693006724708 eV\n"
     ]
    }
   ],
   "source": [
    "import scipy.constants as cte\n",
    "a0   = cte.physical_constants[\"Bohr radius\"][0]\n",
    "hbar = cte.hbar\n",
    "me   = cte.m_e\n",
    "hartree = hbar**2/(me*a0**2)\n",
    "Ray     = hartree/2\n",
    "print(\" 1 hartree = \",hartree,\"J\")\n",
    "print(\" 1 hartree = \",hartree/cte.electron_volt, \"eV\" )\n",
    "print(\" 1 hartree = \",Ray/cte.electron_volt, \"eV\" )"
   ]
  },
  {
   "cell_type": "markdown",
   "metadata": {},
   "source": [
    "# Scipy odeint\n",
    "In order to use odeint the ode (ordinary differential equation) should be written as a system of two equation. In our case we have \n",
    "\\begin{equation}\n",
    "-\\frac{1}{2} U'' + VU = EU\n",
    "\\end{equation}\n",
    "which can be turned into \n",
    "\\begin{eqnarray}\n",
    " U' &= &Q \\\\\n",
    " Q' &= &-(E-V)U\n",
    "\\end{eqnarray}\n",
    "E in Rayleigh\n",
    "\n",
    "The above transformation has to be expressed in a function f, such that $[U,Q] \\rightarrow f \\rightarrow [U',Q']$\n",
    "as expressed in the code\n"
   ]
  },
  {
   "cell_type": "code",
   "execution_count": 38,
   "metadata": {
    "collapsed": true
   },
   "outputs": [],
   "source": [
    "import numpy as np\n",
    "import math\n",
    "from scipy.integrate import odeint\n",
    "from scipy.optimize import brentq\n",
    "from scipy.integrate import simps\n",
    "import matplotlib.pyplot as plt \n",
    "\"\"\"--------------------------------------------------------------\n",
    "   Z = 1, hydrogen atom\n",
    "   -1/2 U\" + (-Z/r + l(l+1)/2*r^2)U = E*U, where U(r) = r*Psi(r)\n",
    "   This is assuming E is expressed in Hartree\n",
    "   \n",
    "   In Rayleig unit of energy\n",
    "   \n",
    "   -U'' + (-2Z/r + l(l+1)/r^2)U = E*U\n",
    "   We go with the latter\n",
    "   --------------------------------------------------------------\n",
    "\"\"\"\n",
    "rc = 1E-6\n",
    "\"\"\" Coulomb Potential  \"\"\"\n",
    "def V(r,Z):\n",
    "    if r<rc: r=rc\n",
    "    return -2.0*Z/r\n",
    "\"\"\" Centripetal Potential\"\"\"\n",
    "def Vcent(r,l):\n",
    "    if r<rc : r=rc\n",
    "    return l*(l+1.0)/(r**2.0)"
   ]
  },
  {
   "cell_type": "code",
   "execution_count": 39,
   "metadata": {
    "collapsed": true
   },
   "outputs": [],
   "source": [
    "\"\"\"-------------------------------------------------------\n",
    "U = r*Psi\n",
    "--\n",
    "U'   = Q\n",
    "Q'   = (E - V(r)-Vcent)*U\n",
    "Initial condition at RMAX, r varies from 0 to RMAX\n",
    "U(RMAX)   = 0\n",
    "U(RMAX-h) = 1e-4  Q' = r*Psi' + Psi --> Q' = (0-U(RMAX-h)/h\n",
    "----------------------------------------------------------\n",
    "\"\"\"\n",
    "def odeSystem(inVal,r,E,Z,l):     \n",
    "    U,Q = inVal\n",
    "    return [Q, -1.0*(E - V(r,Z)-Vcent(r,l))*U ]\n",
    "\n",
    "def shoot(E,Z,l,r):\n",
    "    sol = odeint(odeSystem,iniValue, r, args=(E,Z,l))\n",
    "    t   = sol[:,0]\n",
    "    return  t[-1]/max(np.abs(t))"
   ]
  },
  {
   "cell_type": "code",
   "execution_count": 71,
   "metadata": {
    "collapsed": true
   },
   "outputs": [],
   "source": [
    "\"\"\" Initialisations: \"\"\"\n",
    "n        = 500\n",
    "R_MAX    = 50\n",
    "R        = np.linspace(0,R_MAX,n)\n",
    "R        = R[::-1] # we start from rmax coming down to zero\n",
    "Z        = 1.0\n",
    "l        = 0.0\n",
    "iniValue = [0.0, -1.0E-6]\n",
    "h        = np.abs(R[1]-R[0])\n",
    "\n",
    "def normalise(U):\n",
    "    NormFact  = simps(U**2 , dx = h)\n",
    "    return U/math.sqrt(NormFact)\n",
    "#np.seterr(divide='ignore');"
   ]
  },
  {
   "cell_type": "markdown",
   "metadata": {},
   "source": [
    "Below is the case of the lowest energy level E = -1 Rayleigh, and the plot of the probablity density"
   ]
  },
  {
   "cell_type": "code",
   "execution_count": 72,
   "metadata": {
    "scrolled": true
   },
   "outputs": [
    {
     "name": "stdout",
     "output_type": "stream",
     "text": [
      "E =  -1.0000000148015824\n"
     ]
    },
    {
     "data": {
      "image/png": "[encoded data removed]",
      "text/plain": [
       "<matplotlib.figure.Figure at 0x22ac9d9a668>"
      ]
     },
     "metadata": {},
     "output_type": "display_data"
    }
   ],
   "source": [
    "En = brentq(shoot,-1.5,-0.8,args=(Z,l,R))\n",
    "print(\"E = \",En)\n",
    "sol = odeint(odeSystem, iniValue, R, args=(En,Z,l))\n",
    "Ur= normalise(sol[:,0])\n",
    "#psi = [Ur[i]/R[i] for i in range(len(R))]\n",
    "#plt.plot(R,psi)\n",
    "plt.plot(R,Ur**2)\n",
    "plt.title(\"Probability density\")\n",
    "plt.xlabel(\"\\r(bohr)\")\n",
    "plt.grid()\n",
    "plt.show()"
   ]
  },
  {
   "cell_type": "markdown",
   "metadata": {},
   "source": [
    "We can verify that the probability is at its maximum at 1 a0 "
   ]
  },
  {
   "cell_type": "code",
   "execution_count": 73,
   "metadata": {},
   "outputs": [
    {
     "name": "stdout",
     "output_type": "stream",
     "text": [
      "1.00200400802\n"
     ]
    }
   ],
   "source": [
    "ProbMaxAt=R[np.argmax(np.abs(Ur))]\n",
    "print(ProbMaxAt)"
   ]
  },
  {
   "cell_type": "markdown",
   "metadata": {},
   "source": [
    "To find all the solutions (n,l)  where $0\\le l<n-1$, i.e. $l \\in \\{0,1,..,n-1\\}$\n"
   ]
  },
  {
   "cell_type": "code",
   "execution_count": 77,
   "metadata": {
    "scrolled": true
   },
   "outputs": [
    {
     "name": "stdout",
     "output_type": "stream",
     "text": [
      "n =  1 l =  0  E =  -1.000000014800591\n",
      "n =  2 l =  0  E =  -0.24999999700810896\n",
      "n =  3 l =  0  E =  -0.11110880529106307\n",
      "n =  2 l =  1  E =  -0.2499999957316887\n"
     ]
    },
    {
     "name": "stderr",
     "output_type": "stream",
     "text": [
      "C:\\ProgramData\\Anaconda3\\lib\\site-packages\\scipy\\integrate\\odepack.py:218: ODEintWarning: Excess work done on this call (perhaps wrong Dfun type). Run with full_output = 1 to get quantitative information.\n",
      "  warnings.warn(warning_msg, ODEintWarning)\n"
     ]
    },
    {
     "name": "stdout",
     "output_type": "stream",
     "text": [
      "n =  3 l =  1  E =  -0.11110912263016853\n",
      "n =  3 l =  2  E =  -0.11111081390742793\n"
     ]
    }
   ],
   "source": [
    "Nsearch = 500\n",
    "Nmax = 3\n",
    "lmax = Nmax-1\n",
    "EigenValues = []\n",
    "for l in range(Nmax): # or range(lmax+1)\n",
    "    E0 = -2.0*Z*Z\n",
    "    dE = 0.1\n",
    "    Elevel = 0\n",
    "    shootE0 = shoot(E0,Z,l,R)\n",
    "    for n in range(Nsearch):\n",
    "        shootE = shoot(E0+dE,Z,l,R)\n",
    "        #if shoot(E0,Z,l,R)*shoot(E0+dE,Z,l,R)<0:\n",
    "        if shootE0*shootE<0:\n",
    "            EigEn = brentq(shoot,E0,E0+dE,args=(Z,l,R))   \n",
    "            sol = odeint(odeSystem, iniValue, R, args=(EigEn,Z,l),mxstep=50000)\n",
    "            Ur= normalise(sol[:,0])\n",
    "            Elevel += 1\n",
    "            print(\"n = \",Elevel+l,\"l = \",l,\" E = \", EigEn)            \n",
    "            EigenValues.append([Elevel+l,l,EigEn,Ur])     \n",
    "        shootE0 = shootE\n",
    "        E0 += dE\n",
    "        #dE = dE\n",
    "        if Elevel>=Nmax-l: break\n"
   ]
  },
  {
   "cell_type": "markdown",
   "metadata": {},
   "source": [
    "Don't forget to reverse the order of calculated $U_r$, i.e. Ur = Ur[::-1]. We notice some instability in the solution, this is due to the point r=0. A logarithmic grid is more suitable as we will see later."
   ]
  },
  {
   "cell_type": "code",
   "execution_count": 78,
   "metadata": {},
   "outputs": [
    {
     "name": "stdout",
     "output_type": "stream",
     "text": [
      "[1, 0, -1.000000014800591]\n",
      "[2, 0, -0.24999999700810896]\n",
      "[2, 1, -0.2499999957316887]\n",
      "[3, 2, -0.11111081390742793]\n",
      "[3, 1, -0.11110912263016853]\n",
      "[3, 0, -0.11110880529106307]\n"
     ]
    }
   ],
   "source": [
    "def getKey(itm): return itm[2]\n",
    "S = sorted(EigenValues, key=getKey)\n",
    "for t in S:\n",
    "    print(t[:3])"
   ]
  },
  {
   "cell_type": "code",
   "execution_count": 79,
   "metadata": {},
   "outputs": [
    {
     "data": {
      "image/png": "[encoded data removed]",
      "text/plain": [
       "<matplotlib.figure.Figure at 0x22aca0cb518>"
      ]
     },
     "metadata": {},
     "output_type": "display_data"
    }
   ],
   "source": [
    "plt.figure(figsize=[8,8])\n",
    "for g in S:\n",
    "    plt.plot(R,g[3])\n",
    "plt.grid()\n",
    "plt.show()"
   ]
  },
  {
   "cell_type": "markdown",
   "metadata": {},
   "source": [
    "# Logarithmic grid\n",
    "As it can be seen from the form of the potential much of the physics happens near r=0. This makes a logarithmic grid more suitable. In the code below the grid is created from 1E-6 to 10E2.2.\n",
    "In the function shoot, the value at 0 is extrapolated using polynomial(order 1) around R[0]=1E-6"
   ]
  },
  {
   "cell_type": "code",
   "execution_count": 2,
   "metadata": {
    "scrolled": true
   },
   "outputs": [
    {
     "name": "stdout",
     "output_type": "stream",
     "text": [
      "[1, 0, -1.0000000157946842]\n",
      "[2, 0, -0.24999999729695033]\n",
      "[3, 0, -0.11111111120336686]\n",
      "[4, 0, -0.06250000027352948]\n",
      "[5, 0, -0.04000000064682782]\n",
      "[6, 0, -0.027777779980238174]\n",
      "new dE: 0.06666666666666667\n",
      "[2, 1, -0.24999999661894726]\n",
      "[3, 1, -0.11111111244275512]\n",
      "[4, 1, -0.06250000045520744]\n",
      "[5, 1, -0.04000000025839595]\n",
      "[6, 1, -0.02777777914601529]\n",
      "new dE: 0.044444444444444446\n",
      "[3, 2, -0.11111111357916441]\n",
      "[4, 2, -0.06250000057701087]\n",
      "[5, 2, -0.040000000731520574]\n",
      "[6, 2, -0.027777778894871024]\n",
      "new dE: 0.02962962962962963\n",
      "[4, 3, -0.062499999827279475]\n",
      "[5, 3, -0.040000000146287934]\n",
      "[6, 3, -0.02777777828615454]\n",
      "new dE: 0.019753086419753086\n",
      "[5, 4, -0.0399999998846135]\n",
      "[6, 4, -0.027777778161538483]\n",
      "new dE: 0.01316872427983539\n",
      "[6, 5, -0.02777777773755135]\n",
      "new dE: 0.008779149519890261\n",
      "\n",
      "\n",
      " Sorted states \n",
      "[n, l, E]\n",
      "[1, 0, -1.0000000157946842]\n",
      "[2, 0, -0.24999999729695033]\n",
      "[2, 1, -0.24999999661894726]\n",
      "[3, 0, -0.11111111120336686]\n",
      "[3, 1, -0.11111111244275512]\n",
      "[3, 2, -0.11111111357916441]\n",
      "[4, 0, -0.06250000027352948]\n",
      "[4, 1, -0.06250000045520744]\n",
      "[4, 2, -0.06250000057701087]\n",
      "[4, 3, -0.062499999827279475]\n",
      "[5, 0, -0.04000000064682782]\n",
      "[5, 1, -0.04000000025839595]\n",
      "[5, 2, -0.040000000731520574]\n",
      "[5, 3, -0.040000000146287934]\n",
      "[5, 4, -0.0399999998846135]\n",
      "[6, 0, -0.027777779980238174]\n",
      "[6, 1, -0.02777777914601529]\n",
      "[6, 2, -0.027777778894871024]\n",
      "[6, 3, -0.02777777828615454]\n",
      "[6, 4, -0.027777778161538483]\n",
      "[6, 5, -0.02777777773755135]\n"
     ]
    }
   ],
   "source": [
    "import numpy as np\n",
    "import scipy as sc\n",
    "from scipy.integrate import odeint\n",
    "from scipy.optimize import brentq\n",
    "\n",
    "n   = 500\n",
    "Z   = 1.0\n",
    "l   = 0\n",
    "R   = np.logspace(-6,2.2,n)\n",
    "R_1 = R[::-1] # we start from rmax coming down to zero\n",
    "\n",
    "def bound(UQ,r,E,l):\n",
    "    return [UQ[1], -(E +2.0*Z/r -l*(l+1.0)/r**2)*UQ[0]]\n",
    "\n",
    "def shoot(E,l):\n",
    "    sol = odeint(bound, initialCond, R_1, args=(E,l))\n",
    "    t = sol[:,0]\n",
    "    t =t[::-1]/max(np.abs(t))\n",
    "    tPrime = (t[1]-t[0])/(R[1]-R[0])\n",
    "    return  t[0] + tPrime*(0.0-R[0])\n",
    "   \n",
    "initialCond = [0.0, -1E-4] # this is the initial value UQ\n",
    "\n",
    "Nmax = 6        # max principal quantum number \n",
    "lmax = Nmax-1   # max orbital quantum number\n",
    "maxsteps = 1000\n",
    "en  = []\n",
    "dE  = 0.1\n",
    "dE_change = dE\n",
    "for l in range(Nmax):\n",
    "    E0 = -1.2*Z**2\n",
    "    Elevel = 0    \n",
    "    u0 = shoot(E0,l)\n",
    "    for i in range(maxsteps):        \n",
    "        E1 = E0 + dE        \n",
    "        if E1>0: break\n",
    "        u1 = shoot(E1,l)\n",
    "        if u0*u1<0:\n",
    "            Ex = brentq(shoot,E0,E1,args =(l,), xtol=1e-17)\n",
    "            Elevel +=1       \n",
    "            print([Elevel+l,l,Ex])\n",
    "            en.append([Elevel+l,l,Ex])\n",
    "            dE = dE/2             \n",
    "        if Elevel>=Nmax-l: \n",
    "            dE = dE_change/1.5\n",
    "            dE_change = dE\n",
    "            print(\"new dE:\",dE)\n",
    "            break\n",
    "        u0 = u1                   \n",
    "        E0 +=dE\n",
    "print(\"\\n\\nSorted states \")\n",
    "print(\"[n, l, E]\")\n",
    "en.sort(key = lambda x: [np.round(x[2],3), x[1]])\n",
    "for ss in en : print(ss)   \n",
    "    "
   ]
  },
  {
   "cell_type": "markdown",
   "metadata": {},
   "source": [
    "There is room for improvement.. more will follow."
   ]
  }
 ],
 "metadata": {
  "kernelspec": {
   "display_name": "Python 3",
   "language": "python",
   "name": "python3"
  },
  "language_info": {
   "codemirror_mode": {
    "name": "ipython",
    "version": 3
   },
   "file_extension": ".py",
   "mimetype": "text/x-python",
   "name": "python",
   "nbconvert_exporter": "python",
   "pygments_lexer": "ipython3",
   "version": "3.6.10"
  }
 },
 "nbformat": 4,
 "nbformat_minor": 2
}
