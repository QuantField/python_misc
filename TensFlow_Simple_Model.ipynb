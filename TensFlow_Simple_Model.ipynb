{
 "cells": [
  {
   "cell_type": "code",
   "execution_count": 2,
   "metadata": {},
   "outputs": [],
   "source": [
    "import warnings\n",
    "warnings.filterwarnings('ignore')\n",
    "import tensorflow as tf # import tensor flow"
   ]
  },
  {
   "cell_type": "code",
   "execution_count": 3,
   "metadata": {},
   "outputs": [
    {
     "name": "stdout",
     "output_type": "stream",
     "text": [
      "[array([-0.9999969], dtype=float32), array([0.9999908], dtype=float32)]\n"
     ]
    }
   ],
   "source": [
    "#\n",
    "# simple graph with variables\n",
    "# in order to modify we need vairables\n",
    "#\n",
    "\n",
    "import tensorflow as tf\n",
    "\n",
    "w = tf.Variable([0.3],tf.float32)\n",
    "b = tf.Variable([-0.3],tf.float32)\n",
    "x = tf.placeholder(tf.float32)\n",
    "y = tf.placeholder(tf.float32)\n",
    "\n",
    "#model\n",
    "model = w*x + b\n",
    "\n",
    "#loss\n",
    "sq = tf.square(model - y)\n",
    "loss = tf.reduce_sum(sq)\n",
    "\n",
    "\n",
    "#optimise\n",
    "optimizer = tf.train.GradientDescentOptimizer(0.01)\n",
    "\n",
    "myTrain  = optimizer.minimize(loss)\n",
    "\n",
    "init = tf.global_variables_initializer()\n",
    "\n",
    "sess = tf.Session()\n",
    "sess.run(init)\n",
    "\n",
    "for i in range(1000): # max number of iteration\n",
    "    sess.run(myTrain, feed_dict = {x:[1,2,3,4], y:[0,-1,-2,-3]})\n",
    "\n",
    "print(sess.run([w,b]))\n",
    "\n",
    "\n",
    "sess.close()\n",
    "\n",
    "\n"
   ]
  }
 ],
 "metadata": {
  "kernelspec": {
   "display_name": "Python 3",
   "language": "python",
   "name": "python3"
  },
  "language_info": {
   "codemirror_mode": {
    "name": "ipython",
    "version": 3
   },
   "file_extension": ".py",
   "mimetype": "text/x-python",
   "name": "python",
   "nbconvert_exporter": "python",
   "pygments_lexer": "ipython3",
   "version": "3.6.10"
  }
 },
 "nbformat": 4,
 "nbformat_minor": 2
}
